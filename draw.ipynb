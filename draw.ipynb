{
 "cells": [
  {
   "cell_type": "code",
   "execution_count": 9,
   "metadata": {},
   "outputs": [
    {
     "data": {
      "text/html": [
       "\n",
       "        <iframe\n",
       "            width=\"100%\"\n",
       "            height=\"1600px\"\n",
       "            src=\"tree.html\"\n",
       "            frameborder=\"0\"\n",
       "            allowfullscreen\n",
       "            \n",
       "        ></iframe>\n",
       "        "
      ],
      "text/plain": [
       "<IPython.lib.display.IFrame at 0x7f39745acc40>"
      ]
     },
     "execution_count": 9,
     "metadata": {},
     "output_type": "execute_result"
    }
   ],
   "source": [
    "from parse import gen_tree\n",
    "\n",
    "import tempfile\n",
    "import subprocess\n",
    "from pyvis.network import Network\n",
    "\n",
    "binary = \"../zCore/target/riscv64/release/zcore\"\n",
    "temp = tempfile.NamedTemporaryFile()\n",
    "subprocess.run([\"ddbug\", \"-sname\", binary], stdout=temp)\n",
    "tree = gen_tree(temp.name)\n",
    "idmap = {}\n",
    "G = Network(height=\"1600px\", notebook=True, directed=True, cdn_resources='remote')\n",
    "for fa, ch in tree.items():\n",
    "    if idmap.get(fa) == None:\n",
    "        idmap[fa] = len(idmap)\n",
    "        G.add_node(idmap[fa], label=idmap[fa], title=fa)\n",
    "    for child in ch:\n",
    "        if idmap.get(child) == None:\n",
    "            idmap[child] = len(idmap)\n",
    "            G.add_node(idmap[child], label=idmap[child], title=child)\n",
    "for fa, ch in tree.items():\n",
    "    for child in ch:\n",
    "        G.add_edge(idmap[fa], idmap[child])\n",
    "G.toggle_physics(True)\n",
    "G.show(\"tree.html\")"
   ]
  }
 ],
 "metadata": {
  "kernelspec": {
   "display_name": "Python 3",
   "language": "python",
   "name": "python3"
  },
  "language_info": {
   "codemirror_mode": {
    "name": "ipython",
    "version": 3
   },
   "file_extension": ".py",
   "mimetype": "text/x-python",
   "name": "python",
   "nbconvert_exporter": "python",
   "pygments_lexer": "ipython3",
   "version": "3.8.10 (default, Jun 22 2022, 20:18:18) \n[GCC 9.4.0]"
  },
  "orig_nbformat": 4,
  "vscode": {
   "interpreter": {
    "hash": "916dbcbb3f70747c44a77c7bcd40155683ae19c65e1c03b4aa3499c5328201f1"
   }
  }
 },
 "nbformat": 4,
 "nbformat_minor": 2
}
